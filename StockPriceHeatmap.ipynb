{
 "cells": [
  {
   "cell_type": "code",
   "execution_count": null,
   "id": "b6565e88",
   "metadata": {},
   "outputs": [],
   "source": [
    "import numpy as np\n",
    "import matplotlib.pyplot as plt\n",
    "\n",
    "# Read in the dataset\n",
    "df = pd.read_csv('/Users/owencrew/Documents/stock_trades.csv')\n",
    "\n",
    "# Calculate PnL\n",
    "df['PnL'] = df['Sell Price'] - df['Buy Price']\n",
    "\n",
    "# Create a column for the color of each point based on PnL\n",
    "df['Color'] = np.where(df['PnL'] > 0, 'g', 'r')\n",
    "\n",
    "# Create the heatmap\n",
    "plt.figure(figsize=(10,6))\n",
    "\n",
    "# Adding additional variables\n",
    "plt.scatter(df['Strike Price'], df['Stock Price'], c=df['Color'], alpha=0.5)\n",
    "plt.xlabel('Strike Price')\n",
    "plt.ylabel('Stock Price')\n",
    "\n",
    "# Adding date\n",
    "plt.text(df['Strike Price'], df['Stock Price'], df['Date'], fontsize=8)\n",
    "\n",
    "# Adding volatility\n",
    "plt.scatter(df['Strike Price'], df['Stock Price'], s=df['Volatility']*20, c=df['Color'], alpha=0.5)\n",
    "\n",
    "# Adding Market conditions\n",
    "plt.scatter(df['Strike Price'], df['Stock Price'], c=df['Color'], alpha=0.5, marker = '$%s$'%df['Market Condition'])\n",
    "\n",
    "# Adding Ticker/Stock symbol\n",
    "plt.scatter(df['Strike Price'], df['Stock Price'], c=df['Color'], alpha=0.5, label = df['Ticker/Stock Symbol'])\n",
    "\n",
    "plt.legend()\n",
    "plt.show()"
   ]
  }
 ],
 "metadata": {
  "kernelspec": {
   "display_name": "Python 3 (ipykernel)",
   "language": "python",
   "name": "python3"
  },
  "language_info": {
   "codemirror_mode": {
    "name": "ipython",
    "version": 3
   },
   "file_extension": ".py",
   "mimetype": "text/x-python",
   "name": "python",
   "nbconvert_exporter": "python",
   "pygments_lexer": "ipython3",
   "version": "3.9.12"
  }
 },
 "nbformat": 4,
 "nbformat_minor": 5
}
